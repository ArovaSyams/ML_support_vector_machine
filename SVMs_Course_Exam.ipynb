{
  "cells": [
    {
      "cell_type": "markdown",
      "metadata": {
        "id": "view-in-github",
        "colab_type": "text"
      },
      "source": [
        "<a href=\"https://colab.research.google.com/github/ArovaSyams/machine_learning_svm/blob/main/SVMs_Course_Exam.ipynb\" target=\"_parent\"><img src=\"https://colab.research.google.com/assets/colab-badge.svg\" alt=\"Open In Colab\"/></a>"
      ]
    },
    {
      "cell_type": "markdown",
      "metadata": {
        "id": "KjVD--tEX0GO"
      },
      "source": [
        "# Support Vector Classifier Course Exam"
      ],
      "id": "KjVD--tEX0GO"
    },
    {
      "cell_type": "markdown",
      "metadata": {
        "id": "ABz7C4LLX0GQ"
      },
      "source": [
        "## Introducing the database"
      ],
      "id": "ABz7C4LLX0GQ"
    },
    {
      "cell_type": "markdown",
      "metadata": {
        "id": "egvo10GJX0GR"
      },
      "source": [
        "#### The database for this example is taken from https://archive-beta.ics.uci.edu/ml/datasets/predict+students+dropout+and+academic+success"
      ],
      "id": "egvo10GJX0GR"
    },
    {
      "cell_type": "markdown",
      "metadata": {
        "id": "SWaaY9aJX0GR"
      },
      "source": [
        "#### We usually modify these databases slightly such that they fit the purpose of the course. Therefore, we suggest you use the database provided in the platform to obtain the same results."
      ],
      "id": "SWaaY9aJX0GR"
    },
    {
      "cell_type": "markdown",
      "metadata": {
        "id": "JWSC1TMDX0GR"
      },
      "source": [
        "# Library imports"
      ],
      "id": "JWSC1TMDX0GR"
    },
    {
      "cell_type": "code",
      "execution_count": 1,
      "metadata": {
        "id": "_ZSRF0YxX0GS"
      },
      "outputs": [],
      "source": [
        "import pandas as pd #for reading the data\n",
        "from sklearn.preprocessing import MinMaxScaler #for data standardization\n",
        "from sklearn.model_selection import train_test_split #to split the data into train and test parts\n",
        "from sklearn.preprocessing import LabelEncoder, OrdinalEncoder #to encode the data to numerical\n",
        "from sklearn import svm, datasets\n",
        "from sklearn.metrics import confusion_matrix, accuracy_score, precision_score, recall_score, \\\n",
        "f1_score, classification_report, cohen_kappa_score, matthews_corrcoef, log_loss, \\\n",
        "ConfusionMatrixDisplay\n",
        "from sklearn.model_selection import GridSearchCV #for cross validation\n",
        "from sklearn.metrics import classification_report #for cross validation\n",
        "import matplotlib.pyplot as plt"
      ],
      "id": "_ZSRF0YxX0GS"
    },
    {
      "cell_type": "markdown",
      "metadata": {
        "id": "UChd9kWYX0GT"
      },
      "source": [
        "## Loading the database"
      ],
      "id": "UChd9kWYX0GT"
    },
    {
      "cell_type": "markdown",
      "metadata": {
        "id": "quV26KK3X0GT"
      },
      "source": [
        "#### Read the csv file and study the database"
      ],
      "id": "quV26KK3X0GT"
    },
    {
      "cell_type": "code",
      "execution_count": 2,
      "metadata": {
        "colab": {
          "base_uri": "https://localhost:8080/",
          "height": 308
        },
        "id": "Brk_R8saX0GT",
        "outputId": "03377b8a-ebbb-4e06-9efe-39d57c6eb992"
      },
      "outputs": [
        {
          "output_type": "execute_result",
          "data": {
            "text/plain": [
              "  Marital status Application mode Application order Course  \\\n",
              "0              1               17                 5    171   \n",
              "1              1               15                 1   9254   \n",
              "2              1                1                 5   9070   \n",
              "3              1               17                 2   9773   \n",
              "4              2               39                 1   8014   \n",
              "\n",
              "  Daytime/evening attendance\\t Previous qualification  \\\n",
              "0                            1                      1   \n",
              "1                            1                      1   \n",
              "2                            1                      1   \n",
              "3                            1                      1   \n",
              "4                            0                      1   \n",
              "\n",
              "  Previous qualification (grade) Nacionality Mother's qualification  \\\n",
              "0                          122.0           1                     19   \n",
              "1                          160.0           1                      1   \n",
              "2                          122.0           1                     37   \n",
              "3                          122.0           1                     38   \n",
              "4                          100.0           1                     37   \n",
              "\n",
              "  Father's qualification  ... Curricular units 2nd sem (credited)  \\\n",
              "0                     12  ...                                   0   \n",
              "1                      3  ...                                   0   \n",
              "2                     37  ...                                   0   \n",
              "3                     37  ...                                   0   \n",
              "4                     38  ...                                   0   \n",
              "\n",
              "  Curricular units 2nd sem (enrolled) Curricular units 2nd sem (evaluations)  \\\n",
              "0                                   0                                      0   \n",
              "1                                   6                                      6   \n",
              "2                                   6                                      0   \n",
              "3                                   6                                     10   \n",
              "4                                   6                                      6   \n",
              "\n",
              "  Curricular units 2nd sem (approved) Curricular units 2nd sem (grade)  \\\n",
              "0                                   0                                0   \n",
              "1                                   6                      13.66666667   \n",
              "2                                   0                                0   \n",
              "3                                   5                             12.4   \n",
              "4                                   6                               13   \n",
              "\n",
              "  Curricular units 2nd sem (without evaluations) Unemployment rate  \\\n",
              "0                                              0              10.8   \n",
              "1                                              0              13.9   \n",
              "2                                              0              10.8   \n",
              "3                                              0               9.4   \n",
              "4                                              0              13.9   \n",
              "\n",
              "  Inflation rate    GDP    Target  \n",
              "0            1.4   1.74   Dropout  \n",
              "1           -0.3   0.79  Graduate  \n",
              "2            1.4   1.74   Dropout  \n",
              "3           -0.8  -3.12  Graduate  \n",
              "4           -0.3   0.79  Graduate  \n",
              "\n",
              "[5 rows x 37 columns]"
            ],
            "text/html": [
              "\n",
              "  <div id=\"df-25e8b714-10ca-4705-bfc5-4a824daefb69\" class=\"colab-df-container\">\n",
              "    <div>\n",
              "<style scoped>\n",
              "    .dataframe tbody tr th:only-of-type {\n",
              "        vertical-align: middle;\n",
              "    }\n",
              "\n",
              "    .dataframe tbody tr th {\n",
              "        vertical-align: top;\n",
              "    }\n",
              "\n",
              "    .dataframe thead th {\n",
              "        text-align: right;\n",
              "    }\n",
              "</style>\n",
              "<table border=\"1\" class=\"dataframe\">\n",
              "  <thead>\n",
              "    <tr style=\"text-align: right;\">\n",
              "      <th></th>\n",
              "      <th>Marital status</th>\n",
              "      <th>Application mode</th>\n",
              "      <th>Application order</th>\n",
              "      <th>Course</th>\n",
              "      <th>Daytime/evening attendance\\t</th>\n",
              "      <th>Previous qualification</th>\n",
              "      <th>Previous qualification (grade)</th>\n",
              "      <th>Nacionality</th>\n",
              "      <th>Mother's qualification</th>\n",
              "      <th>Father's qualification</th>\n",
              "      <th>...</th>\n",
              "      <th>Curricular units 2nd sem (credited)</th>\n",
              "      <th>Curricular units 2nd sem (enrolled)</th>\n",
              "      <th>Curricular units 2nd sem (evaluations)</th>\n",
              "      <th>Curricular units 2nd sem (approved)</th>\n",
              "      <th>Curricular units 2nd sem (grade)</th>\n",
              "      <th>Curricular units 2nd sem (without evaluations)</th>\n",
              "      <th>Unemployment rate</th>\n",
              "      <th>Inflation rate</th>\n",
              "      <th>GDP</th>\n",
              "      <th>Target</th>\n",
              "    </tr>\n",
              "  </thead>\n",
              "  <tbody>\n",
              "    <tr>\n",
              "      <th>0</th>\n",
              "      <td>1</td>\n",
              "      <td>17</td>\n",
              "      <td>5</td>\n",
              "      <td>171</td>\n",
              "      <td>1</td>\n",
              "      <td>1</td>\n",
              "      <td>122.0</td>\n",
              "      <td>1</td>\n",
              "      <td>19</td>\n",
              "      <td>12</td>\n",
              "      <td>...</td>\n",
              "      <td>0</td>\n",
              "      <td>0</td>\n",
              "      <td>0</td>\n",
              "      <td>0</td>\n",
              "      <td>0</td>\n",
              "      <td>0</td>\n",
              "      <td>10.8</td>\n",
              "      <td>1.4</td>\n",
              "      <td>1.74</td>\n",
              "      <td>Dropout</td>\n",
              "    </tr>\n",
              "    <tr>\n",
              "      <th>1</th>\n",
              "      <td>1</td>\n",
              "      <td>15</td>\n",
              "      <td>1</td>\n",
              "      <td>9254</td>\n",
              "      <td>1</td>\n",
              "      <td>1</td>\n",
              "      <td>160.0</td>\n",
              "      <td>1</td>\n",
              "      <td>1</td>\n",
              "      <td>3</td>\n",
              "      <td>...</td>\n",
              "      <td>0</td>\n",
              "      <td>6</td>\n",
              "      <td>6</td>\n",
              "      <td>6</td>\n",
              "      <td>13.66666667</td>\n",
              "      <td>0</td>\n",
              "      <td>13.9</td>\n",
              "      <td>-0.3</td>\n",
              "      <td>0.79</td>\n",
              "      <td>Graduate</td>\n",
              "    </tr>\n",
              "    <tr>\n",
              "      <th>2</th>\n",
              "      <td>1</td>\n",
              "      <td>1</td>\n",
              "      <td>5</td>\n",
              "      <td>9070</td>\n",
              "      <td>1</td>\n",
              "      <td>1</td>\n",
              "      <td>122.0</td>\n",
              "      <td>1</td>\n",
              "      <td>37</td>\n",
              "      <td>37</td>\n",
              "      <td>...</td>\n",
              "      <td>0</td>\n",
              "      <td>6</td>\n",
              "      <td>0</td>\n",
              "      <td>0</td>\n",
              "      <td>0</td>\n",
              "      <td>0</td>\n",
              "      <td>10.8</td>\n",
              "      <td>1.4</td>\n",
              "      <td>1.74</td>\n",
              "      <td>Dropout</td>\n",
              "    </tr>\n",
              "    <tr>\n",
              "      <th>3</th>\n",
              "      <td>1</td>\n",
              "      <td>17</td>\n",
              "      <td>2</td>\n",
              "      <td>9773</td>\n",
              "      <td>1</td>\n",
              "      <td>1</td>\n",
              "      <td>122.0</td>\n",
              "      <td>1</td>\n",
              "      <td>38</td>\n",
              "      <td>37</td>\n",
              "      <td>...</td>\n",
              "      <td>0</td>\n",
              "      <td>6</td>\n",
              "      <td>10</td>\n",
              "      <td>5</td>\n",
              "      <td>12.4</td>\n",
              "      <td>0</td>\n",
              "      <td>9.4</td>\n",
              "      <td>-0.8</td>\n",
              "      <td>-3.12</td>\n",
              "      <td>Graduate</td>\n",
              "    </tr>\n",
              "    <tr>\n",
              "      <th>4</th>\n",
              "      <td>2</td>\n",
              "      <td>39</td>\n",
              "      <td>1</td>\n",
              "      <td>8014</td>\n",
              "      <td>0</td>\n",
              "      <td>1</td>\n",
              "      <td>100.0</td>\n",
              "      <td>1</td>\n",
              "      <td>37</td>\n",
              "      <td>38</td>\n",
              "      <td>...</td>\n",
              "      <td>0</td>\n",
              "      <td>6</td>\n",
              "      <td>6</td>\n",
              "      <td>6</td>\n",
              "      <td>13</td>\n",
              "      <td>0</td>\n",
              "      <td>13.9</td>\n",
              "      <td>-0.3</td>\n",
              "      <td>0.79</td>\n",
              "      <td>Graduate</td>\n",
              "    </tr>\n",
              "  </tbody>\n",
              "</table>\n",
              "<p>5 rows × 37 columns</p>\n",
              "</div>\n",
              "    <div class=\"colab-df-buttons\">\n",
              "\n",
              "  <div class=\"colab-df-container\">\n",
              "    <button class=\"colab-df-convert\" onclick=\"convertToInteractive('df-25e8b714-10ca-4705-bfc5-4a824daefb69')\"\n",
              "            title=\"Convert this dataframe to an interactive table.\"\n",
              "            style=\"display:none;\">\n",
              "\n",
              "  <svg xmlns=\"http://www.w3.org/2000/svg\" height=\"24px\" viewBox=\"0 -960 960 960\">\n",
              "    <path d=\"M120-120v-720h720v720H120Zm60-500h600v-160H180v160Zm220 220h160v-160H400v160Zm0 220h160v-160H400v160ZM180-400h160v-160H180v160Zm440 0h160v-160H620v160ZM180-180h160v-160H180v160Zm440 0h160v-160H620v160Z\"/>\n",
              "  </svg>\n",
              "    </button>\n",
              "\n",
              "  <style>\n",
              "    .colab-df-container {\n",
              "      display:flex;\n",
              "      gap: 12px;\n",
              "    }\n",
              "\n",
              "    .colab-df-convert {\n",
              "      background-color: #E8F0FE;\n",
              "      border: none;\n",
              "      border-radius: 50%;\n",
              "      cursor: pointer;\n",
              "      display: none;\n",
              "      fill: #1967D2;\n",
              "      height: 32px;\n",
              "      padding: 0 0 0 0;\n",
              "      width: 32px;\n",
              "    }\n",
              "\n",
              "    .colab-df-convert:hover {\n",
              "      background-color: #E2EBFA;\n",
              "      box-shadow: 0px 1px 2px rgba(60, 64, 67, 0.3), 0px 1px 3px 1px rgba(60, 64, 67, 0.15);\n",
              "      fill: #174EA6;\n",
              "    }\n",
              "\n",
              "    .colab-df-buttons div {\n",
              "      margin-bottom: 4px;\n",
              "    }\n",
              "\n",
              "    [theme=dark] .colab-df-convert {\n",
              "      background-color: #3B4455;\n",
              "      fill: #D2E3FC;\n",
              "    }\n",
              "\n",
              "    [theme=dark] .colab-df-convert:hover {\n",
              "      background-color: #434B5C;\n",
              "      box-shadow: 0px 1px 3px 1px rgba(0, 0, 0, 0.15);\n",
              "      filter: drop-shadow(0px 1px 2px rgba(0, 0, 0, 0.3));\n",
              "      fill: #FFFFFF;\n",
              "    }\n",
              "  </style>\n",
              "\n",
              "    <script>\n",
              "      const buttonEl =\n",
              "        document.querySelector('#df-25e8b714-10ca-4705-bfc5-4a824daefb69 button.colab-df-convert');\n",
              "      buttonEl.style.display =\n",
              "        google.colab.kernel.accessAllowed ? 'block' : 'none';\n",
              "\n",
              "      async function convertToInteractive(key) {\n",
              "        const element = document.querySelector('#df-25e8b714-10ca-4705-bfc5-4a824daefb69');\n",
              "        const dataTable =\n",
              "          await google.colab.kernel.invokeFunction('convertToInteractive',\n",
              "                                                    [key], {});\n",
              "        if (!dataTable) return;\n",
              "\n",
              "        const docLinkHtml = 'Like what you see? Visit the ' +\n",
              "          '<a target=\"_blank\" href=https://colab.research.google.com/notebooks/data_table.ipynb>data table notebook</a>'\n",
              "          + ' to learn more about interactive tables.';\n",
              "        element.innerHTML = '';\n",
              "        dataTable['output_type'] = 'display_data';\n",
              "        await google.colab.output.renderOutput(dataTable, element);\n",
              "        const docLink = document.createElement('div');\n",
              "        docLink.innerHTML = docLinkHtml;\n",
              "        element.appendChild(docLink);\n",
              "      }\n",
              "    </script>\n",
              "  </div>\n",
              "\n",
              "\n",
              "<div id=\"df-cbee2e94-f6a7-4eb1-99f5-e47ac80bd59b\">\n",
              "  <button class=\"colab-df-quickchart\" onclick=\"quickchart('df-cbee2e94-f6a7-4eb1-99f5-e47ac80bd59b')\"\n",
              "            title=\"Suggest charts\"\n",
              "            style=\"display:none;\">\n",
              "\n",
              "<svg xmlns=\"http://www.w3.org/2000/svg\" height=\"24px\"viewBox=\"0 0 24 24\"\n",
              "     width=\"24px\">\n",
              "    <g>\n",
              "        <path d=\"M19 3H5c-1.1 0-2 .9-2 2v14c0 1.1.9 2 2 2h14c1.1 0 2-.9 2-2V5c0-1.1-.9-2-2-2zM9 17H7v-7h2v7zm4 0h-2V7h2v10zm4 0h-2v-4h2v4z\"/>\n",
              "    </g>\n",
              "</svg>\n",
              "  </button>\n",
              "\n",
              "<style>\n",
              "  .colab-df-quickchart {\n",
              "      --bg-color: #E8F0FE;\n",
              "      --fill-color: #1967D2;\n",
              "      --hover-bg-color: #E2EBFA;\n",
              "      --hover-fill-color: #174EA6;\n",
              "      --disabled-fill-color: #AAA;\n",
              "      --disabled-bg-color: #DDD;\n",
              "  }\n",
              "\n",
              "  [theme=dark] .colab-df-quickchart {\n",
              "      --bg-color: #3B4455;\n",
              "      --fill-color: #D2E3FC;\n",
              "      --hover-bg-color: #434B5C;\n",
              "      --hover-fill-color: #FFFFFF;\n",
              "      --disabled-bg-color: #3B4455;\n",
              "      --disabled-fill-color: #666;\n",
              "  }\n",
              "\n",
              "  .colab-df-quickchart {\n",
              "    background-color: var(--bg-color);\n",
              "    border: none;\n",
              "    border-radius: 50%;\n",
              "    cursor: pointer;\n",
              "    display: none;\n",
              "    fill: var(--fill-color);\n",
              "    height: 32px;\n",
              "    padding: 0;\n",
              "    width: 32px;\n",
              "  }\n",
              "\n",
              "  .colab-df-quickchart:hover {\n",
              "    background-color: var(--hover-bg-color);\n",
              "    box-shadow: 0 1px 2px rgba(60, 64, 67, 0.3), 0 1px 3px 1px rgba(60, 64, 67, 0.15);\n",
              "    fill: var(--button-hover-fill-color);\n",
              "  }\n",
              "\n",
              "  .colab-df-quickchart-complete:disabled,\n",
              "  .colab-df-quickchart-complete:disabled:hover {\n",
              "    background-color: var(--disabled-bg-color);\n",
              "    fill: var(--disabled-fill-color);\n",
              "    box-shadow: none;\n",
              "  }\n",
              "\n",
              "  .colab-df-spinner {\n",
              "    border: 2px solid var(--fill-color);\n",
              "    border-color: transparent;\n",
              "    border-bottom-color: var(--fill-color);\n",
              "    animation:\n",
              "      spin 1s steps(1) infinite;\n",
              "  }\n",
              "\n",
              "  @keyframes spin {\n",
              "    0% {\n",
              "      border-color: transparent;\n",
              "      border-bottom-color: var(--fill-color);\n",
              "      border-left-color: var(--fill-color);\n",
              "    }\n",
              "    20% {\n",
              "      border-color: transparent;\n",
              "      border-left-color: var(--fill-color);\n",
              "      border-top-color: var(--fill-color);\n",
              "    }\n",
              "    30% {\n",
              "      border-color: transparent;\n",
              "      border-left-color: var(--fill-color);\n",
              "      border-top-color: var(--fill-color);\n",
              "      border-right-color: var(--fill-color);\n",
              "    }\n",
              "    40% {\n",
              "      border-color: transparent;\n",
              "      border-right-color: var(--fill-color);\n",
              "      border-top-color: var(--fill-color);\n",
              "    }\n",
              "    60% {\n",
              "      border-color: transparent;\n",
              "      border-right-color: var(--fill-color);\n",
              "    }\n",
              "    80% {\n",
              "      border-color: transparent;\n",
              "      border-right-color: var(--fill-color);\n",
              "      border-bottom-color: var(--fill-color);\n",
              "    }\n",
              "    90% {\n",
              "      border-color: transparent;\n",
              "      border-bottom-color: var(--fill-color);\n",
              "    }\n",
              "  }\n",
              "</style>\n",
              "\n",
              "  <script>\n",
              "    async function quickchart(key) {\n",
              "      const quickchartButtonEl =\n",
              "        document.querySelector('#' + key + ' button');\n",
              "      quickchartButtonEl.disabled = true;  // To prevent multiple clicks.\n",
              "      quickchartButtonEl.classList.add('colab-df-spinner');\n",
              "      try {\n",
              "        const charts = await google.colab.kernel.invokeFunction(\n",
              "            'suggestCharts', [key], {});\n",
              "      } catch (error) {\n",
              "        console.error('Error during call to suggestCharts:', error);\n",
              "      }\n",
              "      quickchartButtonEl.classList.remove('colab-df-spinner');\n",
              "      quickchartButtonEl.classList.add('colab-df-quickchart-complete');\n",
              "    }\n",
              "    (() => {\n",
              "      let quickchartButtonEl =\n",
              "        document.querySelector('#df-cbee2e94-f6a7-4eb1-99f5-e47ac80bd59b button');\n",
              "      quickchartButtonEl.style.display =\n",
              "        google.colab.kernel.accessAllowed ? 'block' : 'none';\n",
              "    })();\n",
              "  </script>\n",
              "</div>\n",
              "    </div>\n",
              "  </div>\n"
            ]
          },
          "metadata": {},
          "execution_count": 2
        }
      ],
      "source": [
        "data = pd.read_csv(\"student_dropout.csv\", dtype = str)\n",
        "data.head()"
      ],
      "id": "Brk_R8saX0GT"
    },
    {
      "cell_type": "markdown",
      "metadata": {
        "id": "XANivOKrX0GU"
      },
      "source": [
        "#### Check target class distribution and check for missing values"
      ],
      "id": "XANivOKrX0GU"
    },
    {
      "cell_type": "code",
      "execution_count": 6,
      "metadata": {
        "colab": {
          "base_uri": "https://localhost:8080/"
        },
        "id": "zI0dnvXDX0GV",
        "outputId": "f4a1b9cf-f1a8-4b63-c246-1b8567a06954"
      },
      "outputs": [
        {
          "output_type": "execute_result",
          "data": {
            "text/plain": [
              "Marital status                                    0\n",
              "Application mode                                  0\n",
              "Application order                                 0\n",
              "Course                                            0\n",
              "Daytime/evening attendance\\t                      0\n",
              "Previous qualification                            0\n",
              "Previous qualification (grade)                    0\n",
              "Nacionality                                       0\n",
              "Mother's qualification                            0\n",
              "Father's qualification                            0\n",
              "Mother's occupation                               0\n",
              "Father's occupation                               0\n",
              "Admission grade                                   0\n",
              "Displaced                                         0\n",
              "Educational special needs                         0\n",
              "Debtor                                            0\n",
              "Tuition fees up to date                           0\n",
              "Gender                                            0\n",
              "Scholarship holder                                0\n",
              "Age at enrollment                                 0\n",
              "International                                     0\n",
              "Curricular units 1st sem (credited)               0\n",
              "Curricular units 1st sem (enrolled)               0\n",
              "Curricular units 1st sem (evaluations)            0\n",
              "Curricular units 1st sem (approved)               0\n",
              "Curricular units 1st sem (grade)                  0\n",
              "Curricular units 1st sem (without evaluations)    0\n",
              "Curricular units 2nd sem (credited)               0\n",
              "Curricular units 2nd sem (enrolled)               0\n",
              "Curricular units 2nd sem (evaluations)            0\n",
              "Curricular units 2nd sem (approved)               0\n",
              "Curricular units 2nd sem (grade)                  0\n",
              "Curricular units 2nd sem (without evaluations)    0\n",
              "Unemployment rate                                 0\n",
              "Inflation rate                                    0\n",
              "GDP                                               0\n",
              "Target                                            0\n",
              "dtype: int64"
            ]
          },
          "metadata": {},
          "execution_count": 6
        }
      ],
      "source": [
        "data.isnull().sum()"
      ],
      "id": "zI0dnvXDX0GV"
    },
    {
      "cell_type": "code",
      "execution_count": 51,
      "metadata": {
        "colab": {
          "base_uri": "https://localhost:8080/"
        },
        "id": "bt5h-xa-X0GV",
        "outputId": "d3f3c8ec-7b67-4191-a58a-c1c9427030ab"
      },
      "outputs": [
        {
          "output_type": "execute_result",
          "data": {
            "text/plain": [
              "Graduate    2209\n",
              "Dropout     1421\n",
              "Enrolled     794\n",
              "Name: Target, dtype: int64"
            ]
          },
          "metadata": {},
          "execution_count": 51
        }
      ],
      "source": [
        "data[\"Target\"].value_counts()"
      ],
      "id": "bt5h-xa-X0GV"
    },
    {
      "cell_type": "markdown",
      "metadata": {
        "id": "7XGHHiRhX0GV"
      },
      "source": [
        "## Preprocessing"
      ],
      "id": "7XGHHiRhX0GV"
    },
    {
      "cell_type": "markdown",
      "metadata": {
        "id": "dLPTGuv1X0GV"
      },
      "source": [
        "#### Define the target and the inputs"
      ],
      "id": "dLPTGuv1X0GV"
    },
    {
      "cell_type": "code",
      "execution_count": 8,
      "metadata": {
        "id": "1Q2oQxTAX0GV"
      },
      "outputs": [],
      "source": [
        "target = data[\"Target\"]\n",
        "input = data.drop([\"Target\"], axis=1)"
      ],
      "id": "1Q2oQxTAX0GV"
    },
    {
      "cell_type": "markdown",
      "metadata": {
        "id": "zhCismcsX0GV"
      },
      "source": [
        "#### Create a training and a testing dataset"
      ],
      "id": "zhCismcsX0GV"
    },
    {
      "cell_type": "code",
      "execution_count": 38,
      "metadata": {
        "id": "pq5JzIwGX0GV"
      },
      "outputs": [],
      "source": [
        "x_train, x_test, y_train, y_test = train_test_split(input, target, test_size=0.5, random_state=365, stratify=target)"
      ],
      "id": "pq5JzIwGX0GV"
    },
    {
      "cell_type": "markdown",
      "metadata": {
        "id": "Lc8rV-NjX0GW"
      },
      "source": [
        "#### Define an encoder for the target"
      ],
      "id": "Lc8rV-NjX0GW"
    },
    {
      "cell_type": "code",
      "execution_count": 39,
      "metadata": {
        "id": "ykRQVX3JX0GW"
      },
      "outputs": [],
      "source": [
        "enc_t = LabelEncoder()"
      ],
      "id": "ykRQVX3JX0GW"
    },
    {
      "cell_type": "markdown",
      "metadata": {
        "id": "gMCuWbVMX0GW"
      },
      "source": [
        "#### Apply the fit_transform() method on the training data and the transform() method on the test data."
      ],
      "id": "gMCuWbVMX0GW"
    },
    {
      "cell_type": "code",
      "execution_count": 40,
      "metadata": {
        "id": "9l8NVWi7X0GW"
      },
      "outputs": [],
      "source": [
        "y_train_trans = enc_t.fit_transform(y_train)\n",
        "y_test_trans = enc_t.fit_transform(y_test)"
      ],
      "id": "9l8NVWi7X0GW"
    },
    {
      "cell_type": "code",
      "execution_count": 53,
      "metadata": {
        "colab": {
          "base_uri": "https://localhost:8080/"
        },
        "id": "XHbSX6QdX0GW",
        "outputId": "7c75e7de-034a-42c9-ca7e-83ae6f785662"
      },
      "outputs": [
        {
          "output_type": "execute_result",
          "data": {
            "text/plain": [
              "2    1105\n",
              "0     710\n",
              "1     397\n",
              "dtype: int64"
            ]
          },
          "metadata": {},
          "execution_count": 53
        }
      ],
      "source": [
        "pd.Series(y_train_trans).value_counts()"
      ],
      "id": "XHbSX6QdX0GW"
    },
    {
      "cell_type": "markdown",
      "metadata": {
        "id": "tDtiqNdmX0GW"
      },
      "source": [
        "### rescale to the range [-1, 1]"
      ],
      "id": "tDtiqNdmX0GW"
    },
    {
      "cell_type": "code",
      "execution_count": 42,
      "metadata": {
        "id": "G1eJvrwyX0GW"
      },
      "outputs": [],
      "source": [
        "scaling = MinMaxScaler(feature_range=(-1, 1)).fit(x_train)\n",
        "x_train_rescaled = scaling.transform(x_train)"
      ],
      "id": "G1eJvrwyX0GW"
    },
    {
      "cell_type": "code",
      "source": [
        "x_train_rescaled"
      ],
      "metadata": {
        "colab": {
          "base_uri": "https://localhost:8080/"
        },
        "id": "yh8H-g9KaHOF",
        "outputId": "5fca967e-f767-419e-e0c1-507e01c99a3b"
      },
      "id": "yh8H-g9KaHOF",
      "execution_count": 43,
      "outputs": [
        {
          "output_type": "execute_result",
          "data": {
            "text/plain": [
              "array([[-1.        , -0.42857143,  0.        , ...,  0.11627907,\n",
              "        -0.42222222,  0.54557464],\n",
              "       [-1.        , -0.39285714,  1.        , ...,  0.18604651,\n",
              "         1.        , -0.37648613],\n",
              "       [-1.        , -1.        , -0.66666667, ...,  0.8372093 ,\n",
              "         0.6       , -1.        ],\n",
              "       ...,\n",
              "       [-0.6       ,  0.35714286, -0.66666667, ...,  0.11627907,\n",
              "        -0.42222222,  0.54557464],\n",
              "       [-1.        ,  0.53571429, -0.66666667, ...,  0.46511628,\n",
              "        -0.77777778,  0.28137384],\n",
              "       [-1.        ,  0.35714286, -0.66666667, ...,  1.        ,\n",
              "        -0.51111111, -0.17040951]])"
            ]
          },
          "metadata": {},
          "execution_count": 43
        }
      ]
    },
    {
      "cell_type": "markdown",
      "metadata": {
        "id": "fqQMAyqcX0GW"
      },
      "source": [
        "### Choose a C value of 1"
      ],
      "id": "fqQMAyqcX0GW"
    },
    {
      "cell_type": "code",
      "execution_count": 44,
      "metadata": {
        "id": "nXblXFo2X0GX"
      },
      "outputs": [],
      "source": [
        "C = 10"
      ],
      "id": "nXblXFo2X0GX"
    },
    {
      "cell_type": "markdown",
      "metadata": {
        "id": "XEgfhSUFX0GX"
      },
      "source": [
        "## Classification"
      ],
      "id": "XEgfhSUFX0GX"
    },
    {
      "cell_type": "code",
      "execution_count": 45,
      "metadata": {
        "id": "nyD6L8MaX0GX"
      },
      "outputs": [],
      "source": [
        "svc = svm.SVC(kernel=\"linear\", C=C).fit(x_train_rescaled, y_train_trans)"
      ],
      "id": "nyD6L8MaX0GX"
    },
    {
      "cell_type": "code",
      "execution_count": 46,
      "metadata": {
        "id": "XXKEcPVBX0GX"
      },
      "outputs": [],
      "source": [
        "y_pred_test = svc.predict(scaling.transform(x_test))"
      ],
      "id": "XXKEcPVBX0GX"
    },
    {
      "cell_type": "markdown",
      "metadata": {
        "id": "8VaM56PUX0GX"
      },
      "source": [
        "#### Evaluate the model on the test data"
      ],
      "id": "8VaM56PUX0GX"
    },
    {
      "cell_type": "code",
      "execution_count": 46,
      "metadata": {
        "id": "f9SAagRRX0GX"
      },
      "outputs": [],
      "source": [],
      "id": "f9SAagRRX0GX"
    },
    {
      "cell_type": "code",
      "execution_count": 54,
      "metadata": {
        "colab": {
          "base_uri": "https://localhost:8080/",
          "height": 468
        },
        "id": "GCI3C5atX0GX",
        "outputId": "decb155f-0802-4fea-cdc8-37dffa13fe3b"
      },
      "outputs": [
        {
          "output_type": "display_data",
          "data": {
            "text/plain": [
              "<Figure size 800x500 with 2 Axes>"
            ],
            "image/png": "[encoded data removed]"
          },
          "metadata": {}
        }
      ],
      "source": [
        "\n",
        "fig, ax = plt.subplots(figsize=(8, 5))\n",
        "\n",
        "cmp = ConfusionMatrixDisplay(\n",
        "    confusion_matrix(y_test_trans, y_pred_test),\n",
        "    display_labels=[\"Dropout\", \"Enrolled\", \"Graduate\"],\n",
        ")\n",
        "\n",
        "cmp.plot(ax=ax);"
      ],
      "id": "GCI3C5atX0GX"
    },
    {
      "cell_type": "code",
      "execution_count": 55,
      "metadata": {
        "colab": {
          "base_uri": "https://localhost:8080/"
        },
        "id": "GEQRZGhkX0GY",
        "outputId": "2ddf4182-34d3-4f64-ca7f-962085e16a64"
      },
      "outputs": [
        {
          "output_type": "stream",
          "name": "stdout",
          "text": [
            "              precision    recall  f1-score   support\n",
            "\n",
            "     Dropout       0.78      0.76      0.77       711\n",
            "    Enrolled       0.48      0.32      0.38       397\n",
            "    Graduate       0.80      0.91      0.85      1104\n",
            "\n",
            "    accuracy                           0.75      2212\n",
            "   macro avg       0.69      0.66      0.67      2212\n",
            "weighted avg       0.74      0.75      0.74      2212\n",
            "\n"
          ]
        }
      ],
      "source": [
        "#classification report\n",
        "print(classification_report(y_test_trans, y_pred_test, target_names=[\"Dropout\", \"Enrolled\", \"Graduate\"]))"
      ],
      "id": "GEQRZGhkX0GY"
    },
    {
      "cell_type": "markdown",
      "metadata": {
        "id": "PZAD1gBeX0GY"
      },
      "source": [
        "## Classification with different kernels"
      ],
      "id": "PZAD1gBeX0GY"
    },
    {
      "cell_type": "markdown",
      "metadata": {
        "id": "MFOpzygSX0GY"
      },
      "source": [
        "### Create and test the following svms with the respective kernels and C values\n"
      ],
      "id": "MFOpzygSX0GY"
    },
    {
      "cell_type": "code",
      "execution_count": 35,
      "metadata": {
        "id": "-hxehxtiX0GY"
      },
      "outputs": [],
      "source": [
        "#linear, C = 1\n",
        "#rbf, gamma = 1e-3 C = 1\n",
        "#sigmoid, C = 1\n",
        "#poly, C = 10\n",
        "tuned_parameters = [\n",
        "    {\"kernel\": [\"linear\"], \"C\": [1]},\n",
        "    {\"kernel\": [\"rbf\"], \"gamma\": [1e-3], \"C\": [1]},\n",
        "    {\"kernel\": [\"sigmoid\"], \"C\": [1]},\n",
        "    {\"kernel\": [\"poly\"], \"C\": [10]}\n",
        "]\n",
        "# tuned_parameters = [\n",
        "#     {\"kernel\": [\"linear\"], \"C\": [10]},\n",
        "#     {\"kernel\": [\"rbf\"], \"gamma\": [1e-3], \"C\": [1]},\n",
        "#     {\"kernel\": [\"poly\"], \"C\": [1]},\n",
        "#     {\"kernel\": [\"poly\"], \"C\": [10]}\n",
        "# ]"
      ],
      "id": "-hxehxtiX0GY"
    },
    {
      "cell_type": "code",
      "execution_count": 36,
      "metadata": {
        "colab": {
          "base_uri": "https://localhost:8080/",
          "height": 118
        },
        "id": "u2_W4exnX0GY",
        "outputId": "d5dda94e-c0ef-4d60-f75b-350e0d25a8ce"
      },
      "outputs": [
        {
          "output_type": "execute_result",
          "data": {
            "text/plain": [
              "GridSearchCV(estimator=SVC(),\n",
              "             param_grid=[{'C': [1], 'kernel': ['linear']},\n",
              "                         {'C': [1], 'gamma': [0.001], 'kernel': ['rbf']},\n",
              "                         {'C': [1], 'kernel': ['sigmoid']},\n",
              "                         {'C': [10], 'kernel': ['poly']}])"
            ],
            "text/html": [
              "<style>#sk-container-id-3 {color: black;background-color: white;}#sk-container-id-3 pre{padding: 0;}#sk-container-id-3 div.sk-toggleable {background-color: white;}#sk-container-id-3 label.sk-toggleable__label {cursor: pointer;display: block;width: 100%;margin-bottom: 0;padding: 0.3em;box-sizing: border-box;text-align: center;}#sk-container-id-3 label.sk-toggleable__label-arrow:before {content: \"▸\";float: left;margin-right: 0.25em;color: #696969;}#sk-container-id-3 label.sk-toggleable__label-arrow:hover:before {color: black;}#sk-container-id-3 div.sk-estimator:hover label.sk-toggleable__label-arrow:before {color: black;}#sk-container-id-3 div.sk-toggleable__content {max-height: 0;max-width: 0;overflow: hidden;text-align: left;background-color: #f0f8ff;}#sk-container-id-3 div.sk-toggleable__content pre {margin: 0.2em;color: black;border-radius: 0.25em;background-color: #f0f8ff;}#sk-container-id-3 input.sk-toggleable__control:checked~div.sk-toggleable__content {max-height: 200px;max-width: 100%;overflow: auto;}#sk-container-id-3 input.sk-toggleable__control:checked~label.sk-toggleable__label-arrow:before {content: \"▾\";}#sk-container-id-3 div.sk-estimator input.sk-toggleable__control:checked~label.sk-toggleable__label {background-color: #d4ebff;}#sk-container-id-3 div.sk-label input.sk-toggleable__control:checked~label.sk-toggleable__label {background-color: #d4ebff;}#sk-container-id-3 input.sk-hidden--visually {border: 0;clip: rect(1px 1px 1px 1px);clip: rect(1px, 1px, 1px, 1px);height: 1px;margin: -1px;overflow: hidden;padding: 0;position: absolute;width: 1px;}#sk-container-id-3 div.sk-estimator {font-family: monospace;background-color: #f0f8ff;border: 1px dotted black;border-radius: 0.25em;box-sizing: border-box;margin-bottom: 0.5em;}#sk-container-id-3 div.sk-estimator:hover {background-color: #d4ebff;}#sk-container-id-3 div.sk-parallel-item::after {content: \"\";width: 100%;border-bottom: 1px solid gray;flex-grow: 1;}#sk-container-id-3 div.sk-label:hover label.sk-toggleable__label {background-color: #d4ebff;}#sk-container-id-3 div.sk-serial::before {content: \"\";position: absolute;border-left: 1px solid gray;box-sizing: border-box;top: 0;bottom: 0;left: 50%;z-index: 0;}#sk-container-id-3 div.sk-serial {display: flex;flex-direction: column;align-items: center;background-color: white;padding-right: 0.2em;padding-left: 0.2em;position: relative;}#sk-container-id-3 div.sk-item {position: relative;z-index: 1;}#sk-container-id-3 div.sk-parallel {display: flex;align-items: stretch;justify-content: center;background-color: white;position: relative;}#sk-container-id-3 div.sk-item::before, #sk-container-id-3 div.sk-parallel-item::before {content: \"\";position: absolute;border-left: 1px solid gray;box-sizing: border-box;top: 0;bottom: 0;left: 50%;z-index: -1;}#sk-container-id-3 div.sk-parallel-item {display: flex;flex-direction: column;z-index: 1;position: relative;background-color: white;}#sk-container-id-3 div.sk-parallel-item:first-child::after {align-self: flex-end;width: 50%;}#sk-container-id-3 div.sk-parallel-item:last-child::after {align-self: flex-start;width: 50%;}#sk-container-id-3 div.sk-parallel-item:only-child::after {width: 0;}#sk-container-id-3 div.sk-dashed-wrapped {border: 1px dashed gray;margin: 0 0.4em 0.5em 0.4em;box-sizing: border-box;padding-bottom: 0.4em;background-color: white;}#sk-container-id-3 div.sk-label label {font-family: monospace;font-weight: bold;display: inline-block;line-height: 1.2em;}#sk-container-id-3 div.sk-label-container {text-align: center;}#sk-container-id-3 div.sk-container {/* jupyter's `normalize.less` sets `[hidden] { display: none; }` but bootstrap.min.css set `[hidden] { display: none !important; }` so we also need the `!important` here to be able to override the default hidden behavior on the sphinx rendered scikit-learn.org. See: https://github.com/scikit-learn/scikit-learn/issues/21755 */display: inline-block !important;position: relative;}#sk-container-id-3 div.sk-text-repr-fallback {display: none;}</style><div id=\"sk-container-id-3\" class=\"sk-top-container\"><div class=\"sk-text-repr-fallback\"><pre>GridSearchCV(estimator=SVC(),\n",
              "             param_grid=[{&#x27;C&#x27;: [1], &#x27;kernel&#x27;: [&#x27;linear&#x27;]},\n",
              "                         {&#x27;C&#x27;: [1], &#x27;gamma&#x27;: [0.001], &#x27;kernel&#x27;: [&#x27;rbf&#x27;]},\n",
              "                         {&#x27;C&#x27;: [1], &#x27;kernel&#x27;: [&#x27;sigmoid&#x27;]},\n",
              "                         {&#x27;C&#x27;: [10], &#x27;kernel&#x27;: [&#x27;poly&#x27;]}])</pre><b>In a Jupyter environment, please rerun this cell to show the HTML representation or trust the notebook. <br />On GitHub, the HTML representation is unable to render, please try loading this page with nbviewer.org.</b></div><div class=\"sk-container\" hidden><div class=\"sk-item sk-dashed-wrapped\"><div class=\"sk-label-container\"><div class=\"sk-label sk-toggleable\"><input class=\"sk-toggleable__control sk-hidden--visually\" id=\"sk-estimator-id-7\" type=\"checkbox\" ><label for=\"sk-estimator-id-7\" class=\"sk-toggleable__label sk-toggleable__label-arrow\">GridSearchCV</label><div class=\"sk-toggleable__content\"><pre>GridSearchCV(estimator=SVC(),\n",
              "             param_grid=[{&#x27;C&#x27;: [1], &#x27;kernel&#x27;: [&#x27;linear&#x27;]},\n",
              "                         {&#x27;C&#x27;: [1], &#x27;gamma&#x27;: [0.001], &#x27;kernel&#x27;: [&#x27;rbf&#x27;]},\n",
              "                         {&#x27;C&#x27;: [1], &#x27;kernel&#x27;: [&#x27;sigmoid&#x27;]},\n",
              "                         {&#x27;C&#x27;: [10], &#x27;kernel&#x27;: [&#x27;poly&#x27;]}])</pre></div></div></div><div class=\"sk-parallel\"><div class=\"sk-parallel-item\"><div class=\"sk-item\"><div class=\"sk-label-container\"><div class=\"sk-label sk-toggleable\"><input class=\"sk-toggleable__control sk-hidden--visually\" id=\"sk-estimator-id-8\" type=\"checkbox\" ><label for=\"sk-estimator-id-8\" class=\"sk-toggleable__label sk-toggleable__label-arrow\">estimator: SVC</label><div class=\"sk-toggleable__content\"><pre>SVC()</pre></div></div></div><div class=\"sk-serial\"><div class=\"sk-item\"><div class=\"sk-estimator sk-toggleable\"><input class=\"sk-toggleable__control sk-hidden--visually\" id=\"sk-estimator-id-9\" type=\"checkbox\" ><label for=\"sk-estimator-id-9\" class=\"sk-toggleable__label sk-toggleable__label-arrow\">SVC</label><div class=\"sk-toggleable__content\"><pre>SVC()</pre></div></div></div></div></div></div></div></div></div></div>"
            ]
          },
          "metadata": {},
          "execution_count": 36
        }
      ],
      "source": [
        "#classification report for each classifier\n",
        "cls = GridSearchCV(svm.SVC(), tuned_parameters)\n",
        "cls.fit(x_train_rescaled, y_train_trans)"
      ],
      "id": "u2_W4exnX0GY"
    },
    {
      "cell_type": "code",
      "execution_count": 37,
      "metadata": {
        "colab": {
          "base_uri": "https://localhost:8080/"
        },
        "id": "grYf-5SzX0GZ",
        "outputId": "67baa3d8-128b-47c0-cec7-01107ee78b18"
      },
      "outputs": [
        {
          "output_type": "stream",
          "name": "stdout",
          "text": [
            "{'C': 1, 'kernel': 'linear'}\n"
          ]
        }
      ],
      "source": [
        "print(cls.best_params_)"
      ],
      "id": "grYf-5SzX0GZ"
    },
    {
      "cell_type": "code",
      "execution_count": null,
      "metadata": {
        "id": "9p_HqOKZX0GZ"
      },
      "outputs": [],
      "source": [],
      "id": "9p_HqOKZX0GZ"
    },
    {
      "cell_type": "code",
      "execution_count": null,
      "metadata": {
        "id": "POcuYn7lX0GZ"
      },
      "outputs": [],
      "source": [],
      "id": "POcuYn7lX0GZ"
    },
    {
      "cell_type": "code",
      "execution_count": null,
      "metadata": {
        "id": "XbTUuHhTX0GZ"
      },
      "outputs": [],
      "source": [],
      "id": "XbTUuHhTX0GZ"
    },
    {
      "cell_type": "markdown",
      "metadata": {
        "id": "JHdecEY7X0Ga"
      },
      "source": [
        "###  Test overall performance for the dropout class"
      ],
      "id": "JHdecEY7X0Ga"
    },
    {
      "cell_type": "code",
      "execution_count": null,
      "metadata": {
        "id": "wrLnRbMwX0Ga"
      },
      "outputs": [],
      "source": [
        "# create a new train and test set, with a test set of 30%\n"
      ],
      "id": "wrLnRbMwX0Ga"
    },
    {
      "cell_type": "code",
      "execution_count": null,
      "metadata": {
        "id": "6_wz6ldOX0Gb"
      },
      "outputs": [],
      "source": [
        "#follow the necessary preprocessing steps\n"
      ],
      "id": "6_wz6ldOX0Gb"
    },
    {
      "cell_type": "code",
      "execution_count": null,
      "metadata": {
        "id": "DVwgrWh_X0Gb"
      },
      "outputs": [],
      "source": [],
      "id": "DVwgrWh_X0Gb"
    },
    {
      "cell_type": "code",
      "execution_count": null,
      "metadata": {
        "id": "kklvDUKNX0Gb"
      },
      "outputs": [],
      "source": [
        "#train classifier\n"
      ],
      "id": "kklvDUKNX0Gb"
    },
    {
      "cell_type": "code",
      "execution_count": null,
      "metadata": {
        "id": "djS237IXX0Gc"
      },
      "outputs": [],
      "source": [
        "#predict on new test set\n"
      ],
      "id": "djS237IXX0Gc"
    },
    {
      "cell_type": "code",
      "execution_count": null,
      "metadata": {
        "id": "mY2vOZw3X0Gc"
      },
      "outputs": [],
      "source": [],
      "id": "mY2vOZw3X0Gc"
    },
    {
      "cell_type": "code",
      "execution_count": null,
      "metadata": {
        "id": "CKmAl4BxX0Gc"
      },
      "outputs": [],
      "source": [
        "#linear, C = 1\n",
        "#rbf, gamma = 1e-3, C = 10\n",
        "#poly, C = 1\n",
        "#poly, C = 10"
      ],
      "id": "CKmAl4BxX0Gc"
    },
    {
      "cell_type": "code",
      "execution_count": null,
      "metadata": {
        "id": "We7tqHzWX0Gd"
      },
      "outputs": [],
      "source": [
        "#classification report for each classifier"
      ],
      "id": "We7tqHzWX0Gd"
    },
    {
      "cell_type": "code",
      "execution_count": null,
      "metadata": {
        "id": "586iU7aXX0Gd"
      },
      "outputs": [],
      "source": [
        "# kernel = poly, C = 10, test_size = 0.3\n"
      ],
      "id": "586iU7aXX0Gd"
    },
    {
      "cell_type": "code",
      "execution_count": null,
      "metadata": {
        "id": "BoYvfNPUX0Gd"
      },
      "outputs": [],
      "source": [],
      "id": "BoYvfNPUX0Gd"
    },
    {
      "cell_type": "code",
      "execution_count": null,
      "metadata": {
        "id": "qttkAgFFX0Gd"
      },
      "outputs": [],
      "source": [],
      "id": "qttkAgFFX0Gd"
    },
    {
      "cell_type": "code",
      "execution_count": null,
      "metadata": {
        "id": "NtMWWU_tX0Gd"
      },
      "outputs": [],
      "source": [],
      "id": "NtMWWU_tX0Gd"
    }
  ],
  "metadata": {
    "kernelspec": {
      "display_name": "Python 3",
      "language": "python",
      "name": "python3"
    },
    "language_info": {
      "codemirror_mode": {
        "name": "ipython",
        "version": 3
      },
      "file_extension": ".py",
      "mimetype": "text/x-python",
      "name": "python",
      "nbconvert_exporter": "python",
      "pygments_lexer": "ipython3",
      "version": "3.7.6"
    },
    "colab": {
      "provenance": [],
      "include_colab_link": true
    }
  },
  "nbformat": 4,
  "nbformat_minor": 5
}